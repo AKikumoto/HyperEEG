{
 "cells": [
  {
   "cell_type": "markdown",
   "metadata": {
    "slideshow": {
     "slide_type": "slide"
    }
   },
   "source": [
    "# Can  functional alignment of EEG data improve between subject decoding?\n",
    "#### By: Tom Donoghue, Andy Dykstra, Jarrod M. Hicks, and Touran R. Moghaddam"
   ]
  },
  {
   "cell_type": "markdown",
   "metadata": {
    "slideshow": {
     "slide_type": "slide"
    }
   },
   "source": [
    "<center>\n",
    "    <img src=\"./imgs/fig1.png\" alt=\"sql\" width=\"1000\">\n",
    "</center>\n",
    "\n",
    "<center>\n",
    "    <h4> \n",
    "        This is usually done <u>within</u> each subject \n",
    "    </h4>\n",
    "</center>"
   ]
  },
  {
   "cell_type": "markdown",
   "metadata": {
    "slideshow": {
     "slide_type": "slide"
    }
   },
   "source": [
    "<center>\n",
    "    <h3> \n",
    "        Hyperalignment helps <u>between</u> subject classification \n",
    "    </h3>\n",
    "</center>\n",
    "<br>\n",
    "<center>\n",
    "    <img src=\"./imgs/fig2.png\" alt=\"sql\" width=\"600\">\n",
    "</center>"
   ]
  },
  {
   "cell_type": "markdown",
   "metadata": {
    "slideshow": {
     "slide_type": "slide"
    }
   },
   "source": [
    "## Dataset:\n",
    "- Child Mind Institute\n",
    "- Link to the dataset: http://fcon_1000.projects.nitrc.org/indi/cmi_eeg/eeg.html\n"
   ]
  },
  {
   "cell_type": "markdown",
   "metadata": {
    "slideshow": {
     "slide_type": "slide"
    }
   },
   "source": [
    "## Stimulus & Experiment Design:\n",
    "* Two overlaid gratings tilted 45° to the left and 45° to the right of vertical\n",
    "* Each trial starts with same contrast (50%) for the two gratings\n",
    "* Changes in contrast from 50 to 100% (or 0%) occurred linearly over 1,600 ms, with an immediate 800 ms linear return to 50%"
   ]
  },
  {
   "cell_type": "markdown",
   "metadata": {
    "slideshow": {
     "slide_type": "slide"
    }
   },
   "source": [
    "<center>\n",
    "    <img src=\"./imgs/fig6.png\" alt=\"sql\" width=\"600\">\n",
    "</center>"
   ]
  },
  {
   "cell_type": "markdown",
   "metadata": {
    "slideshow": {
     "slide_type": "slide"
    }
   },
   "source": [
    "## Participant Instructions: \n",
    "* Fixate on the central dot.\n",
    "* Respond with LEFT hand when the LEFT-tilted pattern gets stronger. \n",
    "* Respond with RIGHT hand when the RIGHT-tilted pattern gets stronger.\n",
    "* Work as quickly as you can without making mistakes.\n",
    "\n",
    "## Participants:\n",
    "* 13 individuals between ages of 18 to 44\n"
   ]
  },
  {
   "cell_type": "markdown",
   "metadata": {
    "slideshow": {
     "slide_type": "slide"
    }
   },
   "source": [
    "## EEG acquisition:\n",
    "* High-density EEG data were recorded at a sampling rate of 500 Hz with a bandpass of 0.1 to 100 Hz, using a 128-channel EEG Geodesic Hydrocel system.\n",
    "* The recording reference was at Cz (vertex of the head). "
   ]
  },
  {
   "cell_type": "markdown",
   "metadata": {
    "slideshow": {
     "slide_type": "slide"
    }
   },
   "source": [
    "## Challenges:\n",
    "- What is python?\n",
    "- Data wrangling\n",
    "    - Could BIDS help?\n",
    "- Preprocessing"
   ]
  },
  {
   "cell_type": "markdown",
   "metadata": {
    "slideshow": {
     "slide_type": "slide"
    }
   },
   "source": [
    "## Software Stack:\n",
    "- scikit-learn\n",
    "- HyperTools (& PyMVPA)\n",
    "- MNE-python\n",
    "- autoreject\n",
    "- faster"
   ]
  },
  {
   "cell_type": "markdown",
   "metadata": {
    "slideshow": {
     "slide_type": "slide"
    }
   },
   "source": [
    "<br>\n",
    "<center>\n",
    "    <img src=\"./imgs/classification_nofilter.pdf\" alt=\"sql\" width=\"1000\">\n",
    "</center>"
   ]
  },
  {
   "cell_type": "markdown",
   "metadata": {
    "slideshow": {
     "slide_type": "slide"
    }
   },
   "source": [
    "<center>\n",
    "    <img src=\"./imgs/fig4.png\" alt=\"sql\" width=\"750\">\n",
    "</center>\n",
    "<center>\n",
    "    <h4>\n",
    "        We could do this in a more <u>principled</u> way \n",
    "    <h4>\n",
    "</center>"
   ]
  },
  {
   "cell_type": "markdown",
   "metadata": {
    "slideshow": {
     "slide_type": "slide"
    }
   },
   "source": [
    "## Future Directions\n",
    "- Improving within-subject (across session) test-retest reliability\n",
    "- Improve SNR for canonical M/EEG group analyses at the sensor level\n",
    "- Experiment with dimensionality reduction\n",
    "- Apply to more tasks (e.g. movie data) and datasets"
   ]
  }
 ],
 "metadata": {
  "celltoolbar": "Slideshow",
  "kernelspec": {
   "display_name": "Python 3",
   "language": "python",
   "name": "python3"
  },
  "language_info": {
   "codemirror_mode": {
    "name": "ipython",
    "version": 3
   },
   "file_extension": ".py",
   "mimetype": "text/x-python",
   "name": "python",
   "nbconvert_exporter": "python",
   "pygments_lexer": "ipython3",
   "version": "3.6.6"
  }
 },
 "nbformat": 4,
 "nbformat_minor": 2
}
