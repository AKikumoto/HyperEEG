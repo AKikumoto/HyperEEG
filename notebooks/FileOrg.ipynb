{
 "cells": [
  {
   "cell_type": "code",
   "execution_count": 1,
   "metadata": {},
   "outputs": [],
   "source": [
    "%matplotlib inline\n",
    "\n",
    "import os\n",
    "import csv\n",
    "from collections import Counter\n",
    "\n",
    "import numpy as np\n",
    "import matplotlib.pyplot as plt\n",
    "\n",
    "import mne\n",
    "\n",
    "# MNE associated & pre-processing code\n",
    "from mne.preprocessing import ICA\n",
    "from autoreject import AutoReject"
   ]
  },
  {
   "cell_type": "code",
   "execution_count": 2,
   "metadata": {},
   "outputs": [],
   "source": [
    "def get_files(files):\n",
    "    \"\"\"Return specified file type from list of files.\n",
    "    Note: scrappy implementation - returns only first found file that matches pattern. \n",
    "    \"\"\"\n",
    "    \n",
    "    for file in files:\n",
    "        if seq in file:\n",
    "            return file"
   ]
  },
  {
   "cell_type": "markdown",
   "metadata": {},
   "source": [
    "# Load Data"
   ]
  },
  {
   "cell_type": "code",
   "execution_count": 3,
   "metadata": {},
   "outputs": [],
   "source": [
    "# Set data path\n",
    "dat_path = '/Users/trahimi1/Downloads/MIND_2018/Hackathon/Subjects/'\n",
    "# ToDo: general stuff to get a list of available subjects"
   ]
  },
  {
   "cell_type": "code",
   "execution_count": 4,
   "metadata": {},
   "outputs": [],
   "source": [
    "# Set subject to load\n",
    "sub_num = 'A00054039'\n",
    "subj_path = os.path.join(dat_path, sub_num, 'EEG', 'raw', 'raw_format')"
   ]
  },
  {
   "cell_type": "code",
   "execution_count": 5,
   "metadata": {},
   "outputs": [],
   "source": [
    "# Get list of subject files\n",
    "subj_files = os.listdir(subj_path)\n",
    "\n",
    "subj_files = [file for file in subj_files if ('A0' in file and file.endswith('.raw'))]"
   ]
  },
  {
   "cell_type": "markdown",
   "metadata": {},
   "source": [
    "### Event code descriptions:\n",
    "\n",
    "__Contrats Change__\n",
    "- 3 :  5  = start trial\n",
    "- 4 :  8  = Target ON left\n",
    "- 5 :  9  = Target ON right\n",
    "- 1 : 12  = button press left\n",
    "- 2 : 13  = button press right\n",
    "\n",
    "__Naturalistic Viewing Paradigm__\n",
    "- 33 :  81  = start of video 1\n",
    "- 1 :  101  = stop of video 1\n",
    "- 34 :  82  = start of video 2\n",
    "- 2 :  102  = stop of video 2\n",
    "- 35 :  83  = start of video 3\n",
    "- 3 :  103  = stop of video 3\n",
    "\n",
    "\n",
    "__Resting Paradigm__\n",
    "- 1 :  20 = eyes open start\n",
    "- 2 :  30 = eyes closed start\n",
    "\n",
    "\n",
    "__Sequence Learning Paradigm__\n",
    "\n",
    "- *DOT ON:*\n",
    "- 6 : 11\n",
    "- 7 : 12\n",
    "- 8 : 13\n",
    "- 9 : 14\n",
    "- 10 : 15\n",
    "- 11 : 16\n",
    "- 12 : 17\n",
    "- 13 : 18\n",
    "\n",
    "- *DOT OFF:*\n",
    "- 15 : 21\n",
    "- 16 : 22\n",
    "- 17 : 23 \n",
    "- 18 : 24\n",
    "- 19 : 25\n",
    "- 20 : 26\n",
    "- 21 : 27\n",
    "- 22 : 28\n",
    "\n",
    "\n",
    "__Surround Suppression Paradigm__\n",
    "- 1 :  4 = stimulus ON\n",
    "- 2 :  8 = stimulus OFF\n",
    "(There are also two condotions in this experiment which says there's a background or there is no background)\n",
    "\n",
    "\n",
    "__Symbol Serach Paradigm__\n",
    "- 2 :  20 = start of new page\n",
    "- 1 :  14 = response for trial\n"
   ]
  },
  {
   "cell_type": "code",
   "execution_count": 6,
   "metadata": {},
   "outputs": [],
   "source": [
    "# Contrats Change Detection Paradigm\n",
    "contrast_event = {'12  ': 1, '13  ': 2, '5   ': 3, '8   ': 4, '9   ': 5}\n",
    "nat_view_event = {'81  ':33, '101  ':1, '82  ':34, '102  ':2, '83  ':35, '103  ':3}\n",
    "resting_event = {'20  ':1, '30  ':2}\n",
    "seq_learn_event = {'11  ':6, '12  ':7, '13  ':8, '14  ':9, '15  ':10, '16  ':11, '17  ':12, '18  ':13, '21  ':15, '22  ':16, '23  ':17, '24  ':18, '25  ':19, '26  ':20, '27  ':21, '28  ':22}\n",
    "surr_supp_event = {'4  ':1, '8  ':2}\n",
    "symb_srch_event = {'14  ':1, '20  ':2}"
   ]
  },
  {
   "cell_type": "code",
   "execution_count": 7,
   "metadata": {},
   "outputs": [
    {
     "name": "stdout",
     "output_type": "stream",
     "text": [
      "Reading EGI header from /Users/trahimi1/Downloads/MIND_2018/Hackathon/Subjects/A00054039/EEG/raw/raw_format/A00054039010.raw...\n",
      "    Reading events ...\n",
      "    Assembling measurement info ...\n",
      "Did not find any event code with more than one event.\n",
      "    Synthesizing trigger channel \"STI 014\" ...\n",
      "    Excluding events {} ...\n",
      "Reading 0 ... 156002  =      0.000 ...   312.004 secs...\n"
     ]
    },
    {
     "name": "stderr",
     "output_type": "stream",
     "text": [
      "<ipython-input-7-4dc6bf001d70>:5: RuntimeWarning: Did not find any event code with more than one event.\n",
      "  raw = mne.io.read_raw_egi(os.path.join(subj_path, cur_eeg_file), preload=True)\n"
     ]
    },
    {
     "name": "stdout",
     "output_type": "stream",
     "text": [
      "event mapping doesn't match any of events' id\n",
      "Reading EGI header from /Users/trahimi1/Downloads/MIND_2018/Hackathon/Subjects/A00054039/EEG/raw/raw_format/A00054039004.raw...\n",
      "    Reading events ...\n",
      "    Assembling measurement info ...\n",
      "    Synthesizing trigger channel \"STI 014\" ...\n",
      "    Excluding events {101 , 102 , 103 , 104 , 106 , 11  , 12  , 13  , 14  , 15  , 16  , 17  , 18  , 20  , 21  , 22  , 23  , 24  , 25  , 26  , 27  , 28  , 30  , 31  , 32  , 33  , 34  , 35  , 5   , 50  , 81  , 82  , 83  , 84  , 86  , 9   , 90  , 91  , 92  , 93  , 94  , 95  , 96  , 97  } ...\n",
      "Reading 0 ... 123701  =      0.000 ...   247.402 secs...\n",
      "event mapping doesn't match any of events' id\n",
      "Reading EGI header from /Users/trahimi1/Downloads/MIND_2018/Hackathon/Subjects/A00054039/EEG/raw/raw_format/A00054039005.raw...\n",
      "    Reading events ...\n",
      "    Assembling measurement info ...\n",
      "    Synthesizing trigger channel \"STI 014\" ...\n",
      "    Excluding events {101 , 102 , 103 , 104 , 106 , 11  , 14  , 15  , 16  , 17  , 18  , 20  , 21  , 22  , 23  , 24  , 25  , 26  , 27  , 28  , 30  , 31  , 32  , 33  , 34  , 35  , 4   , 50  , 81  , 82  , 83  , 84  , 86  , 90  , 91  , 92  , 93  , 94  , 95  , 96  , 97  } ...\n",
      "Reading 0 ... 103102  =      0.000 ...   206.204 secs...\n",
      "Reading EGI header from /Users/trahimi1/Downloads/MIND_2018/Hackathon/Subjects/A00054039/EEG/raw/raw_format/A00054039011.raw...\n",
      "    Reading events ...\n",
      "    Assembling measurement info ...\n",
      "    Synthesizing trigger channel \"STI 014\" ...\n",
      "    Excluding events {101 , 102 , 103 , 104 , 106 , 11  , 12  , 13  , 14  , 15  , 16  , 17  , 18  , 20  , 21  , 22  , 23  , 24  , 25  , 26  , 27  , 28  , 30  , 31  , 32  , 33  , 34  , 35  , 5   , 50  , 81  , 82  , 83  , 84  , 86  , 9   , 90  , 91  , 92  , 93  , 94  , 95  , 96  , 97  } ...\n",
      "Reading 0 ... 124427  =      0.000 ...   248.854 secs...\n",
      "event mapping doesn't match any of events' id\n",
      "Reading EGI header from /Users/trahimi1/Downloads/MIND_2018/Hackathon/Subjects/A00054039/EEG/raw/raw_format/A00054039007.raw...\n",
      "    Reading events ...\n",
      "    Assembling measurement info ...\n",
      "    Synthesizing trigger channel \"STI 014\" ...\n",
      "    Excluding events {101 , 102 , 103 , 104 , 106 , 11  , 14  , 15  , 16  , 17  , 18  , 20  , 21  , 22  , 23  , 24  , 25  , 26  , 27  , 28  , 30  , 31  , 32  , 33  , 34  , 35  , 4   , 50  , 81  , 82  , 83  , 84  , 86  , 90  , 91  , 92  , 93  , 94  , 95  , 96  , 97  } ...\n",
      "Reading 0 ... 102252  =      0.000 ...   204.504 secs...\n",
      "Reading EGI header from /Users/trahimi1/Downloads/MIND_2018/Hackathon/Subjects/A00054039/EEG/raw/raw_format/A00054039006.raw...\n",
      "    Reading events ...\n",
      "    Assembling measurement info ...\n",
      "Did not find any event code with more than one event.\n",
      "    Synthesizing trigger channel \"STI 014\" ...\n",
      "    Excluding events {} ...\n",
      "Reading 0 ... 114752  =      0.000 ...   229.504 secs...\n"
     ]
    },
    {
     "name": "stderr",
     "output_type": "stream",
     "text": [
      "<ipython-input-7-4dc6bf001d70>:5: RuntimeWarning: Did not find any event code with more than one event.\n",
      "  raw = mne.io.read_raw_egi(os.path.join(subj_path, cur_eeg_file), preload=True)\n"
     ]
    },
    {
     "name": "stdout",
     "output_type": "stream",
     "text": [
      "event mapping doesn't match any of events' id\n",
      "Reading EGI header from /Users/trahimi1/Downloads/MIND_2018/Hackathon/Subjects/A00054039/EEG/raw/raw_format/A00054039002.raw...\n",
      "    Reading events ...\n",
      "    Assembling measurement info ...\n",
      "    Synthesizing trigger channel \"STI 014\" ...\n",
      "    Excluding events {101 , 102 , 103 , 104 , 106 , 20  , 30  , 31  , 32  , 33  , 34  , 35  , 4   , 5   , 50  , 8   , 81  , 82  , 83  , 84  , 86  , 9   , 90  , 91  , 92  , 93  , 94  , 95  , 96  , 97  } ...\n",
      "Reading 0 ... 117801  =      0.000 ...   235.602 secs...\n",
      "event mapping doesn't match any of events' id\n",
      "Reading EGI header from /Users/trahimi1/Downloads/MIND_2018/Hackathon/Subjects/A00054039/EEG/raw/raw_format/A00054039003.raw...\n",
      "    Reading events ...\n",
      "    Assembling measurement info ...\n",
      "    Synthesizing trigger channel \"STI 014\" ...\n",
      "    Excluding events {101 , 102 , 103 , 104 , 106 , 11  , 12  , 13  , 15  , 16  , 17  , 18  , 21  , 22  , 23  , 24  , 25  , 26  , 27  , 28  , 30  , 31  , 32  , 33  , 34  , 35  , 4   , 5   , 50  , 8   , 81  , 82  , 83  , 84  , 86  , 9   , 90  , 91  , 92  , 93  , 94  , 95  , 96  , 97  } ...\n",
      "Reading 0 ... 72349  =      0.000 ...   144.698 secs...\n",
      "Reading EGI header from /Users/trahimi1/Downloads/MIND_2018/Hackathon/Subjects/A00054039/EEG/raw/raw_format/A00054039001.raw...\n",
      "    Reading events ...\n",
      "    Assembling measurement info ...\n",
      "    Synthesizing trigger channel \"STI 014\" ...\n",
      "    Excluding events {101 , 102 , 103 , 104 , 106 , 11  , 12  , 13  , 14  , 15  , 16  , 17  , 18  , 21  , 22  , 23  , 24  , 25  , 26  , 27  , 28  , 31  , 32  , 33  , 34  , 35  , 4   , 5   , 50  , 8   , 81  , 82  , 83  , 84  , 86  , 9   , 90  , 91  , 92  , 93  , 94  , 95  , 96  , 97  } ...\n",
      "Reading 0 ... 173721  =      0.000 ...   347.442 secs...\n",
      "Reading EGI header from /Users/trahimi1/Downloads/MIND_2018/Hackathon/Subjects/A00054039/EEG/raw/raw_format/A00054039008.raw...\n",
      "    Reading events ...\n",
      "    Assembling measurement info ...\n",
      "Did not find any event code with more than one event.\n",
      "    Synthesizing trigger channel \"STI 014\" ...\n",
      "    Excluding events {} ...\n",
      "Reading 0 ... 145701  =      0.000 ...   291.402 secs...\n"
     ]
    },
    {
     "name": "stderr",
     "output_type": "stream",
     "text": [
      "<ipython-input-7-4dc6bf001d70>:5: RuntimeWarning: Did not find any event code with more than one event.\n",
      "  raw = mne.io.read_raw_egi(os.path.join(subj_path, cur_eeg_file), preload=True)\n"
     ]
    },
    {
     "name": "stdout",
     "output_type": "stream",
     "text": [
      "event mapping doesn't match any of events' id\n",
      "Reading EGI header from /Users/trahimi1/Downloads/MIND_2018/Hackathon/Subjects/A00054039/EEG/raw/raw_format/A00054039009.raw...\n",
      "    Reading events ...\n",
      "    Assembling measurement info ...\n",
      "    Synthesizing trigger channel \"STI 014\" ...\n",
      "    Excluding events {101 , 102 , 103 , 104 , 106 , 11  , 14  , 15  , 16  , 17  , 18  , 20  , 21  , 22  , 23  , 24  , 25  , 26  , 27  , 28  , 30  , 31  , 32  , 33  , 34  , 35  , 4   , 50  , 81  , 82  , 83  , 84  , 86  , 90  , 91  , 92  , 93  , 94  , 95  , 96  , 97  } ...\n",
      "Reading 0 ... 127776  =      0.000 ...   255.552 secs...\n"
     ]
    },
    {
     "data": {
      "text/plain": [
       "'contrast change'"
      ]
     },
     "execution_count": 7,
     "metadata": {},
     "output_type": "execute_result"
    }
   ],
   "source": [
    "# Get specific block\n",
    "task = {}\n",
    "for counter_file in range(len(subj_files)):\n",
    "    cur_eeg_file = subj_files[counter_file]\n",
    "    raw = mne.io.read_raw_egi(os.path.join(subj_path, cur_eeg_file), preload=True)\n",
    "    if raw.event_id == contrast_event:\n",
    "        event_mapping = contrast_event\n",
    "        task['paradigm_' + str(counter_file)] = \"contrast change\"\n",
    "    elif raw.event_id == nat_view_event:\n",
    "        event_mapping = nat_view_event\n",
    "        task['paradigm_' + str(counter_file)] = \"naturalistic viewing\"           \n",
    "    elif raw.event_id == resting_event:\n",
    "        event_mapping = resting_event\n",
    "        task['paradigm_' + str(counter_file)] = \"resting\"           \n",
    "    elif raw.event_id == seq_learn_event:\n",
    "        event_mapping = seq_learn_event\n",
    "        task['paradigm_' + str(counter_file)] = \"sequence learning\"\n",
    "    elif raw.event_id == surr_supp_event:\n",
    "        event_mapping = surr_supp_event\n",
    "        task['paradigm_' + str(counter_file)] = \"surround suppression\"\n",
    "    elif raw.event_id == symb_srch_event:\n",
    "        event_mapping = symb_srch_event\n",
    "        task['paradigm_' + str(counter_file)] = \"symbol search\"\n",
    "    else:\n",
    "        print(\"event mapping doesn't match any of events' id\")\n",
    "\n",
    "task['paradigm_' + str(counter_file)]"
   ]
  },
  {
   "cell_type": "code",
   "execution_count": 8,
   "metadata": {},
   "outputs": [],
   "source": [
    "# data = {\"Subject\": sub_num}\n",
    "\n",
    "\n",
    "# # download_dir = \"data.csv\" #where you want the file to be downloaded to \n",
    "\n",
    "# # csv = open(download_dir, \"w\") \n",
    "# # #\"w\" indicates that you're writing strings to the file\n",
    "\n",
    "\n",
    "# for counter_file in range(len(subj_files)):\n",
    "#     data.update({'str(file)': \"task['paradigm_' + str(counter_file)]\"})\n",
    "\n",
    "# # csv.write(\"task['paradigm_' + str(counter_file)]\")\n",
    "\n",
    "# np.savetxt('data.csv', (sub_num, task), delimiter=',')\n"
   ]
  },
  {
   "cell_type": "code",
   "execution_count": null,
   "metadata": {},
   "outputs": [],
   "source": []
  }
 ],
 "metadata": {
  "kernelspec": {
   "display_name": "Python 3",
   "language": "python",
   "name": "python3"
  },
  "language_info": {
   "codemirror_mode": {
    "name": "ipython",
    "version": 3
   },
   "file_extension": ".py",
   "mimetype": "text/x-python",
   "name": "python",
   "nbconvert_exporter": "python",
   "pygments_lexer": "ipython3",
   "version": "3.6.5"
  }
 },
 "nbformat": 4,
 "nbformat_minor": 2
}
