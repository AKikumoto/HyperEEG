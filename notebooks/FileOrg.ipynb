{
 "cells": [
  {
   "cell_type": "markdown",
   "metadata": {},
   "source": [
    "# ChildMind File Organization / Mapping\n",
    "\n",
    "Words, words, words."
   ]
  },
  {
   "cell_type": "markdown",
   "metadata": {},
   "source": [
    "### Event code descriptions:\n",
    "\n",
    "__Contrats Change__\n",
    "- 3 :  5  = start trial\n",
    "- 4 :  8  = Target ON left\n",
    "- 5 :  9  = Target ON right\n",
    "- 1 : 12  = button press left\n",
    "- 2 : 13  = button press right\n",
    "\n",
    "__Naturalistic Viewing Paradigm__\n",
    "- 33 :  81  = start of video 1\n",
    "- 1 :  101  = stop of video 1\n",
    "- 34 :  82  = start of video 2\n",
    "- 2 :  102  = stop of video 2\n",
    "- 35 :  83  = start of video 3\n",
    "- 3 :  103  = stop of video 3\n",
    "\n",
    "\n",
    "__Resting Paradigm__\n",
    "- 1 :  20 = eyes open start\n",
    "- 2 :  30 = eyes closed start\n",
    "\n",
    "\n",
    "__Sequence Learning Paradigm__\n",
    "\n",
    "- *DOT ON:*\n",
    "- 6 : 11\n",
    "- 7 : 12\n",
    "- 8 : 13\n",
    "- 9 : 14\n",
    "- 10 : 15\n",
    "- 11 : 16\n",
    "- 12 : 17\n",
    "- 13 : 18\n",
    "\n",
    "- *DOT OFF:*\n",
    "- 15 : 21\n",
    "- 16 : 22\n",
    "- 17 : 23 \n",
    "- 18 : 24\n",
    "- 19 : 25\n",
    "- 20 : 26\n",
    "- 21 : 27\n",
    "- 22 : 28\n",
    "\n",
    "\n",
    "__Surround Suppression Paradigm__\n",
    "- 1 :  4 = stimulus ON\n",
    "- 2 :  8 = stimulus OFF\n",
    "(There are also two condotions in this experiment which says there's a background or there is no background)\n",
    "\n",
    "\n",
    "__Symbol Serach Paradigm__\n",
    "- 2 :  20 = start of new page\n",
    "- 1 :  14 = response for trial\n",
    "\n"
   ]
  },
  {
   "cell_type": "code",
   "execution_count": null,
   "metadata": {
    "collapsed": true
   },
   "outputs": [],
   "source": [
    "import os\n",
    "import csv\n",
    "\n",
    "from collections import Counter\n",
    "\n",
    "from mne import set_log_level\n",
    "from mne.io import read_raw_egi"
   ]
  },
  {
   "cell_type": "code",
   "execution_count": null,
   "metadata": {
    "collapsed": true
   },
   "outputs": [],
   "source": [
    "# Set MNE logging to only print critical issues\n",
    "set_log_level('CRITICAL')"
   ]
  },
  {
   "cell_type": "code",
   "execution_count": null,
   "metadata": {},
   "outputs": [],
   "source": [
    "# Create a mapping of event codes to file type\n",
    "events = {\n",
    "    'contrast'  : [{'12' : 1, '13': 2, '5': 3, '8': 4, '9': 5}],\n",
    "    \n",
    "    'nat_view'  : [{'81': 33, '101':1, '82':34, '102':2, '83':35, '103':3}],\n",
    "    \n",
    "    'resting'   : [{'20': 1, '30' : 2}, {'20': 1, '30' : 2, '90' : 3}],\n",
    "    \n",
    "    'seq_learn' : [{'11' :  1, '12':  2, '13' :  3, '14' :  4, '15' :  5, '16' :  6,\n",
    "                    '17' :  7, '18':  8, '21' :  9, '22' : 10, '23' : 11, '24' : 12,\n",
    "                    '25' : 13, '26': 14, '27' : 15, '28' : 16}],\n",
    "    \n",
    "    'surr_supp' : [{'4' : 1,  '8' : 2}],\n",
    "    \n",
    "    'symb_srch' : [{'14': 1, '20' : 2}],\n",
    "    \n",
    "    'movie'     : [{'101' :  1, '102' :  2, '103' :  3, '104' :  4, '106':  5, '11' :  6, '12':  7,\n",
    "                     '13' :  8,  '14' :  9,  '15' : 10,  '16' : 11,  '17': 12, '18' : 13, '20': 14,\n",
    "                     '21' : 15,  '22' : 16,  '23' : 17,  '24' : 18,  '25': 19, '26' : 20, '27': 21,\n",
    "                     '28' : 22,  '30' : 23,  '31' : 24,  '32' : 25,  '33': 26, '34' : 27, '35': 28,\n",
    "                      '4' : 29,   '5' : 30,  '50' : 31,   '8' : 32,  '81': 33, '82' : 34, '83': 35,\n",
    "                     '84' : 36,  '86' : 37,   '9' : 38,  '90' : 39,  '91': 40, '92' : 41, '93': 42,\n",
    "                     '94' : 43,  '95' : 44,  '96' : 45,  '97' : 46}]\n",
    "}"
   ]
  },
  {
   "cell_type": "markdown",
   "metadata": {},
   "source": [
    "# Load Data"
   ]
  },
  {
   "cell_type": "code",
   "execution_count": null,
   "metadata": {
    "collapsed": true
   },
   "outputs": [],
   "source": [
    "# Set data path\n",
    "#dat_path = '/Users/trahimi1/Downloads/MIND_2018/Hackathon/Subjects/'\n",
    "dat_path = '/Users/tom/Desktop/HyperEEG_Project/Data/raw/'"
   ]
  },
  {
   "cell_type": "code",
   "execution_count": null,
   "metadata": {},
   "outputs": [],
   "source": [
    "# Get list of all available subjects\n",
    "subj_nums = [file for file in os.listdir(dat_path) if file[0] is not '.']"
   ]
  },
  {
   "cell_type": "code",
   "execution_count": null,
   "metadata": {},
   "outputs": [],
   "source": [
    "def cln_dict(evd):\n",
    "    return {ke.strip(): va for ke, va in evd.items()}"
   ]
  },
  {
   "cell_type": "code",
   "execution_count": null,
   "metadata": {},
   "outputs": [],
   "source": [
    "file_labels = []\n",
    "for sub_num in subj_nums:\n",
    "\n",
    "    subj_path = os.path.join(dat_path, sub_num, 'EEG', 'raw', 'raw_format')\n",
    "    subj_files = [file for file in os.listdir(subj_path) if ('A0' in file and file.endswith('.raw'))]\n",
    "\n",
    "    print('Running Subject #', subj_file.split('.')[0])\n",
    "\n",
    "    for ind, subj_file in enumerate(subj_files):\n",
    "\n",
    "        raw = mne.io.read_raw_egi(os.path.join(subj_path, subj_file), preload=False)\n",
    "\n",
    "        cur_task = None\n",
    "\n",
    "        for key, vals in events.items():\n",
    "            \n",
    "            for val in vals:\n",
    "                if cln_dict(raw.event_id) == val:\n",
    "                    #print('\\tFound event:', key)\n",
    "                    cur_task = key\n",
    "                    break\n",
    "\n",
    "        if not cur_task:\n",
    "            print(raw.event_id)\n",
    "            print('\\tNo match found for file.')\n",
    "\n",
    "        file_labels.append((subj_file[0:9], subj_file, cur_task))"
   ]
  },
  {
   "cell_type": "code",
   "execution_count": null,
   "metadata": {},
   "outputs": [],
   "source": [
    "# Save out a file of all the mappings\n",
    "with open('file_mappings.csv', 'w') as csvfile:\n",
    "    writer = csv.writer(csvfile)\n",
    "    for f_info in file_labels:\n",
    "        writer.writerow(list(f_info))"
   ]
  }
 ],
 "metadata": {
  "kernelspec": {
   "display_name": "Python 3",
   "language": "python",
   "name": "python3"
  },
  "language_info": {
   "codemirror_mode": {
    "name": "ipython",
    "version": 3
   },
   "file_extension": ".py",
   "mimetype": "text/x-python",
   "name": "python",
   "nbconvert_exporter": "python",
   "pygments_lexer": "ipython3",
   "version": "3.6.1"
  }
 },
 "nbformat": 4,
 "nbformat_minor": 2
}
