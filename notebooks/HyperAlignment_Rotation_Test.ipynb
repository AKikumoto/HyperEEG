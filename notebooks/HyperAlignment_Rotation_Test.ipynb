{
 "cells": [
  {
   "cell_type": "code",
   "execution_count": 1,
   "metadata": {},
   "outputs": [],
   "source": [
    "import numpy as np\n",
    "\n",
    "from mvpa2.datasets.base import Dataset\n",
    "from mvpa2.algorithms.hyperalignment import Hyperalignment"
   ]
  },
  {
   "cell_type": "code",
   "execution_count": 169,
   "metadata": {},
   "outputs": [],
   "source": [
    "# Define a function to create a random 3D rotation matrix\n",
    "def rand_rotation():\n",
    "    x_rotation = np.random.uniform(0,2*np.pi,1)\n",
    "    Rx = [[1, 0, 0], \n",
    "          [0, np.cos(x_rotation), -np.sin(x_rotation)],\n",
    "          [0, np.sin(x_rotation), np.cos(x_rotation)]]\n",
    "\n",
    "    y_rotation = np.random.uniform(0,2*np.pi,1)\n",
    "    Ry = [[np.cos(y_rotation), 0, np.sin(y_rotation)], \n",
    "          [0, 1, 0],\n",
    "          [-np.sin(y_rotation), 0, np.cos(y_rotation)]]\n",
    "\n",
    "    z_rotation = np.random.uniform(0,2*np.pi,1)\n",
    "    Rz = [[np.cos(z_rotation), -np.sin(z_rotation), 0], \n",
    "          [np.sin(z_rotation), np.cos(z_rotation), 0],\n",
    "          [0, 0, 1]]\n",
    "    \n",
    "    return np.dot(np.dot(Rx,Ry),Rz)"
   ]
  },
  {
   "cell_type": "code",
   "execution_count": 170,
   "metadata": {},
   "outputs": [],
   "source": [
    "# Create fake rotated data\n",
    "D = np.random.uniform(0,1,[20,3])\n",
    "datasets = [Dataset(D)]\n",
    "rotations = [np.identity(3)]\n",
    "for i in range(5):\n",
    "    R = rand_rotation()\n",
    "    rotations.append(R)\n",
    "    datasets.append(Dataset(np.dot(D,R)))"
   ]
  },
  {
   "cell_type": "code",
   "execution_count": 171,
   "metadata": {},
   "outputs": [],
   "source": [
    "# Initialize a hyperalingment object\n",
    "hyper_aligner = Hyperalignment()"
   ]
  },
  {
   "cell_type": "code",
   "execution_count": 172,
   "metadata": {},
   "outputs": [],
   "source": [
    "# Train our hyperalingment model\n",
    "hyper_aligner.train(datasets)"
   ]
  },
  {
   "cell_type": "code",
   "execution_count": 173,
   "metadata": {},
   "outputs": [],
   "source": [
    "# Collect our mappings from fitting hyperalignment\n",
    "mappers = hyper_aligner(datasets)"
   ]
  },
  {
   "cell_type": "code",
   "execution_count": 174,
   "metadata": {
    "scrolled": true
   },
   "outputs": [],
   "source": [
    "# Apply the hyper-alignment projection to transform the data\n",
    "new_datasets = []\n",
    "for dataset, mapper in zip(datasets, mappers):\n",
    "    new_datasets.append(mapper.forward(dataset))\n",
    "    \n",
    "# Note: this above is equivalent to the following one liner\n",
    "new_datasets = [mapper.forward(dataset) for dataset, mapper in zip(datasets, mappers)]"
   ]
  },
  {
   "cell_type": "code",
   "execution_count": 178,
   "metadata": {},
   "outputs": [
    {
     "name": "stdout",
     "output_type": "stream",
     "text": [
      "[[-5.91193761e-15  1.55431223e-15  6.66133815e-16]\n",
      " [ 1.33226763e-15 -3.33066907e-15  3.77475828e-15]\n",
      " [-3.10862447e-15  3.66373598e-15 -3.33066907e-15]\n",
      " [-4.44089210e-16  2.44249065e-15 -2.99760217e-15]\n",
      " [-1.66533454e-16  2.22044605e-16 -2.22044605e-16]\n",
      " [ 2.31759056e-15 -2.88657986e-15  1.77635684e-15]\n",
      " [-3.21964677e-15  1.77635684e-15 -1.33226763e-15]\n",
      " [ 1.11022302e-16 -1.11022302e-16 -9.99200722e-16]\n",
      " [ 7.49400542e-16 -2.66453526e-15  2.22044605e-15]\n",
      " [ 1.05471187e-15 -1.30971622e-16 -1.11022302e-15]\n",
      " [ 2.33146835e-15 -3.44169138e-15  2.66453526e-15]\n",
      " [-8.88178420e-16  2.38697950e-15 -3.44169138e-15]\n",
      " [ 2.53963517e-15  2.22044605e-16 -1.60982339e-15]\n",
      " [ 3.77475828e-15  9.99200722e-16 -4.55191440e-15]\n",
      " [ 3.77475828e-15 -2.88657986e-15  1.27675648e-15]\n",
      " [-8.88178420e-16 -1.11022302e-15  8.88178420e-16]\n",
      " [-7.77156117e-15  1.55431223e-15  1.33226763e-15]\n",
      " [ 4.44089210e-15 -5.32907052e-15  4.44089210e-15]\n",
      " [ 2.77555756e-15 -2.55351296e-15  9.99200722e-16]\n",
      " [-1.33226763e-15  2.22044605e-16 -5.51642065e-16]]\n"
     ]
    }
   ],
   "source": [
    "# See if alignment worked\n",
    "ex1 = new_datasets[0]\n",
    "ex2 = new_datasets[3]\n",
    "print ex1.samples - ex2.samples"
   ]
  },
  {
   "cell_type": "code",
   "execution_count": 175,
   "metadata": {},
   "outputs": [],
   "source": [
    "# From here: try classification between subjects, in aligned space"
   ]
  }
 ],
 "metadata": {
  "kernelspec": {
   "display_name": "Python 2",
   "language": "python",
   "name": "python2"
  },
  "language_info": {
   "codemirror_mode": {
    "name": "ipython",
    "version": 2
   },
   "file_extension": ".py",
   "mimetype": "text/x-python",
   "name": "python",
   "nbconvert_exporter": "python",
   "pygments_lexer": "ipython2",
   "version": "2.7.15"
  }
 },
 "nbformat": 4,
 "nbformat_minor": 2
}
