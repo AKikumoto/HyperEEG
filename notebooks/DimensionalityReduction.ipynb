{
 "cells": [
  {
   "cell_type": "markdown",
   "metadata": {},
   "source": [
    "# Dimensionality Reduction\n",
    "This notebook contains sample code for dimensionality reduction"
   ]
  },
  {
   "cell_type": "markdown",
   "metadata": {},
   "source": [
    "## Code for one matrix of data (e.g. one subject)"
   ]
  },
  {
   "cell_type": "code",
   "execution_count": 1,
   "metadata": {},
   "outputs": [],
   "source": [
    "import numpy as np\n",
    "from sklearn.decomposition import PCA\n",
    "import hypertools as hyp\n",
    "# import matplotlib.pyplot as plt"
   ]
  },
  {
   "cell_type": "code",
   "execution_count": 2,
   "metadata": {},
   "outputs": [],
   "source": [
    "# Make fake data (or load data)\n",
    "mean = np.array([1.0, 2.0, 3.0, 1.0, 2.0, 3.0])\n",
    "cov = np.array([[1.0, 0.1, 0.1, 0.9, 0.1, 0.1],\n",
    "                [0.1, 1.0, 0.1, 0.1, 0.9, 0.1],\n",
    "                [0.1, 0.1, 1.0, 0.1, 0.1, 0.9],\n",
    "                [0.9, 0.1, 0.1, 1.0, 0.1, 0.1],\n",
    "                [0.1, 0.9, 0.1, 0.1, 1.0, 0.1],\n",
    "                [0.1, 0.1, 0.9, 0.1, 0.1, 1.0]\n",
    "               ])\n",
    "X = np.random.multivariate_normal(mean,cov,100)"
   ]
  },
  {
   "cell_type": "code",
   "execution_count": 3,
   "metadata": {},
   "outputs": [],
   "source": [
    "# Perform PCA\n",
    "pca = PCA(n_components=X.shape[1])\n",
    "trans_X = pca.fit_transform(X)\n",
    "var_ex = pca.explained_variance_ratio_"
   ]
  },
  {
   "cell_type": "code",
   "execution_count": 4,
   "metadata": {},
   "outputs": [],
   "source": [
    "# Plot the variance explained by as a function of components\n",
    "# plt.plot(range(1,len(var_ex)+1), var_ex, 'k.-')\n",
    "# plt.ylabel('Variance Explained')\n",
    "# plt.xlabel('Component Number')\n",
    "# plt.show()"
   ]
  },
  {
   "cell_type": "code",
   "execution_count": 5,
   "metadata": {},
   "outputs": [],
   "source": [
    "# Perform classification on transformed data\n",
    "# Note: you should slice the data to keep the first k components"
   ]
  },
  {
   "cell_type": "markdown",
   "metadata": {},
   "source": [
    "## Code for multiple sets of data (e.g. multiple subjects)"
   ]
  },
  {
   "cell_type": "code",
   "execution_count": 6,
   "metadata": {},
   "outputs": [],
   "source": [
    "# Make fake data (or load data)\n",
    "# Note: Group data should be stored in a list called \"dataset\"\n",
    "#       and each entry should be a t by n matrix where t is a\n",
    "#       some number of timepoints and n is number of features\n",
    "\n",
    "mean = np.array([1.0, 2.0, 3.0, 1.0, 2.0, 3.0])\n",
    "cov = np.array([[1.0, 0.1, 0.1, 0.9, 0.1, 0.1],\n",
    "                [0.1, 1.0, 0.1, 0.1, 0.9, 0.1],\n",
    "                [0.1, 0.1, 1.0, 0.1, 0.1, 0.9],\n",
    "                [0.9, 0.1, 0.1, 1.0, 0.1, 0.1],\n",
    "                [0.1, 0.9, 0.1, 0.1, 1.0, 0.1],\n",
    "                [0.1, 0.1, 0.9, 0.1, 0.1, 1.0]\n",
    "               ])\n",
    "X = np.random.multivariate_normal(mean,cov,100)\n",
    "# R = np.random.normal(loc=0.0, scale=1.0, size=[6,6])\n",
    "\n",
    "# Create \"subjects\" by randomly rotating and stretching X\n",
    "dataset = []\n",
    "for i in range(5):\n",
    "    dataset.append(X @ np.random.normal(loc=0.0, scale=1.0, size=[6, 6]))"
   ]
  },
  {
   "cell_type": "markdown",
   "metadata": {},
   "source": [
    "### PCA followed by Hyperalignment"
   ]
  },
  {
   "cell_type": "code",
   "execution_count": 7,
   "metadata": {},
   "outputs": [],
   "source": [
    "# Perform PCA transformation ('T')\n",
    "dataset_T = []\n",
    "for data in dataset:\n",
    "    pca = PCA(n_components=data.shape[1])\n",
    "    dataset_T.append(pca.fit_transform(data))"
   ]
  },
  {
   "cell_type": "code",
   "execution_count": 8,
   "metadata": {},
   "outputs": [],
   "source": [
    "# Perform hyperalignment ('A') iteratively adding PCA dimensions\n",
    "dataset_TA = {}\n",
    "for k in range(1,dataset_T[0].shape[1]+1):\n",
    "    dataset_TA[k] = hyp.align(list(np.array(dataset_T)[:,:,0:k]))"
   ]
  },
  {
   "cell_type": "markdown",
   "metadata": {},
   "source": [
    "### Hyperalignment followed by PCA"
   ]
  },
  {
   "cell_type": "code",
   "execution_count": 9,
   "metadata": {},
   "outputs": [],
   "source": [
    "# Perform hyperalignment ('A')\n",
    "dataset_A = hyp.align(dataset)"
   ]
  },
  {
   "cell_type": "code",
   "execution_count": 10,
   "metadata": {},
   "outputs": [],
   "source": [
    "# Concatenate data to perform single PCA across subjects\n",
    "all_data_A = np.concatenate(dataset_A)"
   ]
  },
  {
   "cell_type": "code",
   "execution_count": 11,
   "metadata": {},
   "outputs": [],
   "source": [
    "# Perform PCA transformation ('T')\n",
    "pca = PCA(n_components=all_data_A.shape[1])\n",
    "all_data_AT = pca.fit_transform(all_data_A)\n",
    "var_ex = pca.explained_variance_ratio_\n",
    "dataset_AT = np.split(all_data_AT, len(dataset))"
   ]
  },
  {
   "cell_type": "code",
   "execution_count": 12,
   "metadata": {},
   "outputs": [],
   "source": [
    "# # Plot the variance explained by as a function of components\n",
    "# plt.plot(range(1,len(var_ex)+1), var_ex, 'k.-')\n",
    "# plt.ylabel('Variance Explained')\n",
    "# plt.xlabel('Component Number')\n",
    "# plt.title('PCA on Hyperaligned Data')\n",
    "# plt.show()"
   ]
  },
  {
   "cell_type": "markdown",
   "metadata": {},
   "source": [
    "## Perform Classification on Lower Dimensional Data"
   ]
  },
  {
   "cell_type": "code",
   "execution_count": null,
   "metadata": {},
   "outputs": [],
   "source": [
    "# Insert classification code here"
   ]
  }
 ],
 "metadata": {
  "kernelspec": {
   "display_name": "Python 3",
   "language": "python",
   "name": "python3"
  },
  "language_info": {
   "codemirror_mode": {
    "name": "ipython",
    "version": 3
   },
   "file_extension": ".py",
   "mimetype": "text/x-python",
   "name": "python",
   "nbconvert_exporter": "python",
   "pygments_lexer": "ipython3",
   "version": "3.6.5"
  }
 },
 "nbformat": 4,
 "nbformat_minor": 2
}
