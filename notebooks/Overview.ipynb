{
 "cells": [
  {
   "cell_type": "markdown",
   "metadata": {},
   "source": [
    "# Project Outline"
   ]
  },
  {
   "cell_type": "markdown",
   "metadata": {},
   "source": [
    "Note: Hypothesis levels are not independent, nor in an explicit order. \n",
    "\n",
    "Hypotheses:\n",
    "\n",
    "- Level 1: On contrast change detection task, hyperaligning subjects will allow for between subject classification, that won't work without alignment. \n",
    "    - Aligned group may also outperform within subjects, due to limited data in individual subject analysis\n",
    "    - This should also be evident in seeing more similar state-space trajectories in aligned data\n",
    "    - Verification: see increased correlations across subjects after alignment\n",
    "- Level 2: Exploring possible feature spaces to maximize how well Level 1 works\n",
    "    - By feature space: what do you feed in to the procedure (frequency bands)\n",
    "- Level 3: How many dimensions do we need to be successful (where success is defined in terms of classification accuracy across subjects). Alternate version: trying to estimate the dimensionality of the data. \n",
    "    - Do PCA with hyperalignment\n",
    "        - Before: find the dimensionality of the data\n",
    "            - Note: could be like noise reduction, helping the alignment\n",
    "        - After: find the dimensionality of the task\n",
    "- Level 4: Movies, themselves\n",
    "    - Hyper alignming the movie data\n",
    "    - Check for increased correlations between subjects\n",
    "    - Setting up movie prediction (note: maybe not). \n",
    "- Level 5: Cross task / Generalization\n",
    "    - Hyper align on movies, apply to task, predict task (and vice versa)\n",
    "        - Note: have results to compare to from the fMRI findings\n",
    "- Level 6: Exploring the variance in alignment\n",
    "    - Example: predicting alignment 'success' given other measures, such as eye-tracking\n",
    "- Level 7: Exploring different alignments\n",
    "    - SRM"
   ]
  },
  {
   "cell_type": "code",
   "execution_count": null,
   "metadata": {
    "collapsed": true
   },
   "outputs": [],
   "source": [
    "Action points / splitting up:\n",
    "    - Pre Processing\n",
    "    - Group Analysis notebook (level 1)\n",
    "    - State space visualizations\n",
    "    - Dimensionality (Level 3)\n",
    "    - "
   ]
  }
 ],
 "metadata": {
  "kernelspec": {
   "display_name": "Python 3",
   "language": "python",
   "name": "python3"
  },
  "language_info": {
   "codemirror_mode": {
    "name": "ipython",
    "version": 3
   },
   "file_extension": ".py",
   "mimetype": "text/x-python",
   "name": "python",
   "nbconvert_exporter": "python",
   "pygments_lexer": "ipython3",
   "version": "3.6.1"
  }
 },
 "nbformat": 4,
 "nbformat_minor": 2
}
