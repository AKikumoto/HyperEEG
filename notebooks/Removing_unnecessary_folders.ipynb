{
 "cells": [
  {
   "cell_type": "markdown",
   "metadata": {},
   "source": [
    "The EEGDev data has multiple redundant copies.\n",
    "After full backup, use this to remove superfluous files, specifically:\n",
    "    - Preprocessed Data in mat format\n",
    "    - Raw Data in CSV format\n"
   ]
  },
  {
   "cell_type": "code",
   "execution_count": 1,
   "metadata": {
    "collapsed": true
   },
   "outputs": [],
   "source": [
    "import os\n",
    "import shutil"
   ]
  },
  {
   "cell_type": "code",
   "execution_count": 2,
   "metadata": {},
   "outputs": [
    {
     "name": "stdout",
     "output_type": "stream",
     "text": [
      "['A00062453', 'A00062919', 'A00062951', 'A00062842', 'A00063029', 'A00063051', 'A00053990', 'A00063377', 'A00063558', 'A00054122', 'A00063117', 'A00062125', 'A00062165', 'A00054039', 'A00054207', 'A00054023', 'A00054387', 'A00056640', 'A00054930', 'A00056604', 'A00055065', 'A00058775', 'A00057092', 'A00059083', 'A00062055', 'A00062219', 'A00062279', 'A00062329', 'A00062408', 'A00062435', 'A00062578', 'A00062704']\n"
     ]
    }
   ],
   "source": [
    "DAT_DIR = '/Volumes/Lona/EEGHyper/Data/'\n",
    "subjs = os.listdir(DAT_DIR)\n",
    "\n",
    "# On MacOS remove the system files with '.' in the beginning\n",
    "subjs = [ff for ff in subjs if ff[0] is not '.']\n",
    "print(subjs)"
   ]
  },
  {
   "cell_type": "code",
   "execution_count": 3,
   "metadata": {},
   "outputs": [
    {
     "data": {
      "text/plain": [
       "'/Volumes/Lona/EEGHyper/Data/A00062453/EEG/preprocessed'"
      ]
     },
     "execution_count": 3,
     "metadata": {},
     "output_type": "execute_result"
    }
   ],
   "source": [
    "os.path.join(DAT_DIR, 'A00062453', 'EEG', 'preprocessed')"
   ]
  },
  {
   "cell_type": "code",
   "execution_count": null,
   "metadata": {
    "collapsed": true
   },
   "outputs": [],
   "source": [
    "def main():\n",
    "\n",
    "    for subj in subjs:\n",
    "        \n",
    "        print('Deleting subject # ', subj)\n",
    "\n",
    "        # Remove eye-tracking data\n",
    "        #try:\n",
    "        #    shutil.rmtree(os.path.join(DAT_DIR, subj, 'Eyetracking'))\n",
    "        #except:\n",
    "        #    pass\n",
    "\n",
    "        # Remove EEG preprocessed data\n",
    "        try:\n",
    "            shutil.rmtree(os.path.join(DAT_DIR, subj, 'EEG', 'preprocessed'))\n",
    "            print('\\t Removed preprocessed data.')\n",
    "        except:\n",
    "            print('Nope.')\n",
    "            pass\n",
    "\n",
    "        # Remove raw csv data\n",
    "        try:\n",
    "            shutil.rmtree(os.path.join(DAT_DIR, subj, 'EEG', 'raw', 'csv_format'))\n",
    "            print('\\t Removing raw data.')\n",
    "        except:\n",
    "            print('Nope.')\n",
    "            pass"
   ]
  },
  {
   "cell_type": "code",
   "execution_count": null,
   "metadata": {},
   "outputs": [],
   "source": [
    "if __name__ == \"__main__\":\n",
    "    main()"
   ]
  },
  {
   "cell_type": "code",
   "execution_count": null,
   "metadata": {},
   "outputs": [],
   "source": [
    "__name__"
   ]
  },
  {
   "cell_type": "code",
   "execution_count": null,
   "metadata": {
    "collapsed": true
   },
   "outputs": [],
   "source": []
  }
 ],
 "metadata": {
  "kernelspec": {
   "display_name": "Python 2",
   "language": "python",
   "name": "python2"
  },
  "language_info": {
   "codemirror_mode": {
    "name": "ipython",
    "version": 2
   },
   "file_extension": ".py",
   "mimetype": "text/x-python",
   "name": "python",
   "nbconvert_exporter": "python",
   "pygments_lexer": "ipython2",
   "version": "2.7.13"
  }
 },
 "nbformat": 4,
 "nbformat_minor": 2
}
